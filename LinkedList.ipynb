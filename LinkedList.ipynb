{
  "nbformat": 4,
  "nbformat_minor": 0,
  "metadata": {
    "colab": {
      "provenance": [],
      "authorship_tag": "ABX9TyP/W69ioBxx6TweFds0xhlc",
      "include_colab_link": true
    },
    "kernelspec": {
      "name": "python3",
      "display_name": "Python 3"
    },
    "language_info": {
      "name": "python"
    }
  },
  "cells": [
    {
      "cell_type": "markdown",
      "metadata": {
        "id": "view-in-github",
        "colab_type": "text"
      },
      "source": [
        "<a href=\"https://colab.research.google.com/github/divyam9876/LinkedList/blob/main/LinkedList.ipynb\" target=\"_parent\"><img src=\"https://colab.research.google.com/assets/colab-badge.svg\" alt=\"Open In Colab\"/></a>"
      ]
    },
    {
      "cell_type": "code",
      "execution_count": null,
      "metadata": {
        "colab": {
          "base_uri": "https://localhost:8080/"
        },
        "id": "_quuNIJ9FUib",
        "outputId": "ab937812-39b8-4b78-95aa-58bbd99083a1"
      },
      "outputs": [
        {
          "output_type": "stream",
          "name": "stdout",
          "text": [
            "10->15->20->25->End\n",
            "15->20->25->End\n",
            "15->20->End\n",
            "15->End\n"
          ]
        }
      ],
      "source": [
        "class LinkedListNode:\n",
        "  def __init__(self,data):\n",
        "    self.value=data\n",
        "    self.next=None\n",
        "\n",
        "class LinkedList:\n",
        "  def __init__(self):\n",
        "    self.head=None\n",
        "\n",
        "  def insert_atStart(self,data):\n",
        "    new_node=LinkedListNode(data)\n",
        "    new_node.next=self.head\n",
        "    self.head=new_node\n",
        "\n",
        "  def insert_atPosition(self,data,position):\n",
        "    new_node=LinkedListNode(data)\n",
        "    if not self.head:\n",
        "      self.head=new_node\n",
        "      return\n",
        "    current=self.head\n",
        "    count = 0\n",
        "    while current and count < position - 1:\n",
        "      current = current.next\n",
        "      count += 1\n",
        "    if not current:\n",
        "      print(f\"Position {position} is out of bounds\")\n",
        "      return\n",
        "    new_node.next=current.next\n",
        "    current.next=new_node\n",
        "\n",
        "  def insert_atEnd(self,data):\n",
        "    new_node=LinkedListNode(data)\n",
        "    if not self.head:\n",
        "      self.head=new_node\n",
        "      return\n",
        "    current=self.head\n",
        "    while current.next:\n",
        "      current=current.next\n",
        "    current.next=new_node\n",
        "\n",
        "  def print(self):\n",
        "    if not self.head:\n",
        "      print('Empty Linked List')\n",
        "      return\n",
        "    current=self.head\n",
        "    while current.next:\n",
        "      print(current.value,end='->'if current.next else '')\n",
        "      current=current.next\n",
        "    print('End')\n",
        "\n",
        "  def delete_atStart(self):\n",
        "    if not self.head:\n",
        "      print('Empty Linked List')\n",
        "      return\n",
        "    self.head=self.head.next\n",
        "\n",
        "  def delete_atEnd(self):\n",
        "    if not self.head:\n",
        "      print('Empty Linked List')\n",
        "      return\n",
        "    if not self.head.next:\n",
        "      self.head = None\n",
        "      return\n",
        "    current=self.head\n",
        "    while current.next.next:\n",
        "      current=current.next\n",
        "    current.next=None\n",
        "\n",
        "  def delete_atPosition(self,position):\n",
        "    if not self.head:\n",
        "      return 'Empty Linked List'\n",
        "    current=self.head\n",
        "    count=0\n",
        "    while current and count<position-1:\n",
        "      current=current.next\n",
        "      count+=1\n",
        "    if not current:\n",
        "      return f'Position {position} is out of bounds'\n",
        "    current.next=current.next.next\n",
        "\n",
        "  def delete_byValue(self,value):\n",
        "    if not self.head:\n",
        "      return 'Empty Linked List'\n",
        "    current=self.head\n",
        "    if current.value==value:\n",
        "      self.head=current.next\n",
        "      return\n",
        "    while current.next:\n",
        "      if current.next.value==value:\n",
        "        current.next=current.next.next\n",
        "        return\n",
        "      current=current.next\n",
        "    return 'Value not found'\n",
        "\n",
        "ll=LinkedList()\n",
        "ll.insert_atStart(10)\n",
        "ll.insert_atEnd(20)\n",
        "ll.insert_atEnd(30)\n",
        "ll.insert_atPosition(15,1)\n",
        "ll.insert_atPosition(25,3)\n",
        "ll.print()\n",
        "ll.delete_atStart()\n",
        "ll.print()\n",
        "ll.delete_atEnd()\n",
        "ll.print()\n",
        "ll.delete_atPosition(1)\n",
        "ll.print()"
      ]
    },
    {
      "cell_type": "code",
      "source": [],
      "metadata": {
        "id": "fPWjKJRseLwb"
      },
      "execution_count": null,
      "outputs": []
    },
    {
      "cell_type": "code",
      "source": [
        "# Definition for singly-linked list.\n",
        "class ListNode:\n",
        "    def __init__(self, x):\n",
        "        self.val = x\n",
        "        self.next = None\n",
        "\n",
        "class Solution:\n",
        "    def hasCycle(self, head: Optional[ListNode]) -> bool:\n",
        "        if not head or not head.next:\n",
        "            return False\n",
        "        slow = head\n",
        "        fast = head\n",
        "        while fast and fast.next:\n",
        "            slow=slow.next\n",
        "            fast=fast.next.next\n",
        "            if slow==fast:\n",
        "                return True\n",
        "        return False\n",
        "# Linked list: [3, 2, 0, -4], cycle at position 1\n",
        "values = [3, 2, 0, -4]\n",
        "pos = 1\n",
        "\n",
        "head = create_linked_list_with_cycle(values, pos)\n",
        "solution = Solution()\n",
        "print(solution.hasCycle(head))  # Expected output: True\n",
        "\n"
      ],
      "metadata": {
        "colab": {
          "base_uri": "https://localhost:8080/",
          "height": 341
        },
        "id": "X4tR5_ZEXbzE",
        "outputId": "67c10434-e321-4de2-9502-13eb249aa652"
      },
      "execution_count": null,
      "outputs": [
        {
          "output_type": "error",
          "ename": "NameError",
          "evalue": "name 'Optional' is not defined",
          "traceback": [
            "\u001b[0;31m---------------------------------------------------------------------------\u001b[0m",
            "\u001b[0;31mNameError\u001b[0m                                 Traceback (most recent call last)",
            "\u001b[0;32m<ipython-input-1-de51f183e148>\u001b[0m in \u001b[0;36m<cell line: 0>\u001b[0;34m()\u001b[0m\n\u001b[1;32m      5\u001b[0m         \u001b[0mself\u001b[0m\u001b[0;34m.\u001b[0m\u001b[0mnext\u001b[0m \u001b[0;34m=\u001b[0m \u001b[0;32mNone\u001b[0m\u001b[0;34m\u001b[0m\u001b[0;34m\u001b[0m\u001b[0m\n\u001b[1;32m      6\u001b[0m \u001b[0;34m\u001b[0m\u001b[0m\n\u001b[0;32m----> 7\u001b[0;31m \u001b[0;32mclass\u001b[0m \u001b[0mSolution\u001b[0m\u001b[0;34m:\u001b[0m\u001b[0;34m\u001b[0m\u001b[0;34m\u001b[0m\u001b[0m\n\u001b[0m\u001b[1;32m      8\u001b[0m     \u001b[0;32mdef\u001b[0m \u001b[0mhasCycle\u001b[0m\u001b[0;34m(\u001b[0m\u001b[0mself\u001b[0m\u001b[0;34m,\u001b[0m \u001b[0mhead\u001b[0m\u001b[0;34m:\u001b[0m \u001b[0mOptional\u001b[0m\u001b[0;34m[\u001b[0m\u001b[0mListNode\u001b[0m\u001b[0;34m]\u001b[0m\u001b[0;34m)\u001b[0m \u001b[0;34m->\u001b[0m \u001b[0mbool\u001b[0m\u001b[0;34m:\u001b[0m\u001b[0;34m\u001b[0m\u001b[0;34m\u001b[0m\u001b[0m\n\u001b[1;32m      9\u001b[0m         \u001b[0;32mif\u001b[0m \u001b[0;32mnot\u001b[0m \u001b[0mhead\u001b[0m \u001b[0;32mor\u001b[0m \u001b[0;32mnot\u001b[0m \u001b[0mhead\u001b[0m\u001b[0;34m.\u001b[0m\u001b[0mnext\u001b[0m\u001b[0;34m:\u001b[0m\u001b[0;34m\u001b[0m\u001b[0;34m\u001b[0m\u001b[0m\n",
            "\u001b[0;32m<ipython-input-1-de51f183e148>\u001b[0m in \u001b[0;36mSolution\u001b[0;34m()\u001b[0m\n\u001b[1;32m      6\u001b[0m \u001b[0;34m\u001b[0m\u001b[0m\n\u001b[1;32m      7\u001b[0m \u001b[0;32mclass\u001b[0m \u001b[0mSolution\u001b[0m\u001b[0;34m:\u001b[0m\u001b[0;34m\u001b[0m\u001b[0;34m\u001b[0m\u001b[0m\n\u001b[0;32m----> 8\u001b[0;31m     \u001b[0;32mdef\u001b[0m \u001b[0mhasCycle\u001b[0m\u001b[0;34m(\u001b[0m\u001b[0mself\u001b[0m\u001b[0;34m,\u001b[0m \u001b[0mhead\u001b[0m\u001b[0;34m:\u001b[0m \u001b[0mOptional\u001b[0m\u001b[0;34m[\u001b[0m\u001b[0mListNode\u001b[0m\u001b[0;34m]\u001b[0m\u001b[0;34m)\u001b[0m \u001b[0;34m->\u001b[0m \u001b[0mbool\u001b[0m\u001b[0;34m:\u001b[0m\u001b[0;34m\u001b[0m\u001b[0;34m\u001b[0m\u001b[0m\n\u001b[0m\u001b[1;32m      9\u001b[0m         \u001b[0;32mif\u001b[0m \u001b[0;32mnot\u001b[0m \u001b[0mhead\u001b[0m \u001b[0;32mor\u001b[0m \u001b[0;32mnot\u001b[0m \u001b[0mhead\u001b[0m\u001b[0;34m.\u001b[0m\u001b[0mnext\u001b[0m\u001b[0;34m:\u001b[0m\u001b[0;34m\u001b[0m\u001b[0;34m\u001b[0m\u001b[0m\n\u001b[1;32m     10\u001b[0m             \u001b[0;32mreturn\u001b[0m \u001b[0;32mFalse\u001b[0m\u001b[0;34m\u001b[0m\u001b[0;34m\u001b[0m\u001b[0m\n",
            "\u001b[0;31mNameError\u001b[0m: name 'Optional' is not defined"
          ]
        }
      ]
    }
  ]
}